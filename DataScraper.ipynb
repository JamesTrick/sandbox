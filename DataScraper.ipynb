{
 "cells": [
  {
   "cell_type": "markdown",
   "metadata": {},
   "source": [
    "# Get Rugby Data\n",
    "Using requests and BeautifulSoup to scrape rugbydata.com"
   ]
  },
  {
   "cell_type": "code",
   "execution_count": 96,
   "metadata": {
    "collapsed": false
   },
   "outputs": [],
   "source": [
    "\"\"\"\n",
    "Import required packages\n",
    "\"\"\"\n",
    "import requests\n",
    "from bs4 import BeautifulSoup as bs\n",
    "import pandas as pd\n",
    "import html5lib"
   ]
  },
  {
   "cell_type": "code",
   "execution_count": 97,
   "metadata": {
    "collapsed": true
   },
   "outputs": [],
   "source": [
    "# Set first Url, then generalise as a function to pass in multiple and loop\n",
    "url = \"http://www.rugbydata.com/superrugby/hurricanes/gamesplayed/\""
   ]
  },
  {
   "cell_type": "code",
   "execution_count": 98,
   "metadata": {
    "collapsed": false
   },
   "outputs": [],
   "source": [
    "# Get request\n",
    "r = requests.get(url)"
   ]
  },
  {
   "cell_type": "code",
   "execution_count": 99,
   "metadata": {
    "collapsed": false
   },
   "outputs": [],
   "source": [
    "page = r.text\n",
    "soup = bs(page)"
   ]
  },
  {
   "cell_type": "code",
   "execution_count": 100,
   "metadata": {
    "collapsed": false
   },
   "outputs": [],
   "source": [
    "table = soup.find_all('table')\n",
    "rows = table[0].find_all('tr')[1:]"
   ]
  },
  {
   "cell_type": "code",
   "execution_count": 101,
   "metadata": {
    "collapsed": false
   },
   "outputs": [],
   "source": [
    "data = {\n",
    "    'Date' : [],\n",
    "    'TeamA' : [],\n",
    "    'Score' : [],\n",
    "    'TeamB' : [],\n",
    "}"
   ]
  },
  {
   "cell_type": "code",
   "execution_count": 102,
   "metadata": {
    "collapsed": true
   },
   "outputs": [],
   "source": [
    "for row in rows:\n",
    "    cols = row.find_all('td')\n",
    "    data['Date'].append(cols[0].get_text())\n",
    "    data['TeamA'].append(cols[1].get_text())\n",
    "    data['Score'].append(cols[2].get_text())\n",
    "    data['TeamB'].append(cols[3].get_text())"
   ]
  },
  {
   "cell_type": "code",
   "execution_count": 103,
   "metadata": {
    "collapsed": false
   },
   "outputs": [],
   "source": [
    "# print data"
   ]
  },
  {
   "cell_type": "code",
   "execution_count": 104,
   "metadata": {
    "collapsed": false
   },
   "outputs": [
    {
     "data": {
      "text/html": [
       "<div>\n",
       "<table border=\"1\" class=\"dataframe\">\n",
       "  <thead>\n",
       "    <tr style=\"text-align: right;\">\n",
       "      <th></th>\n",
       "      <th>Date</th>\n",
       "      <th>Score</th>\n",
       "      <th>TeamA</th>\n",
       "      <th>TeamB</th>\n",
       "    </tr>\n",
       "  </thead>\n",
       "  <tbody>\n",
       "    <tr>\n",
       "      <th>0</th>\n",
       "      <td>15 Mar 2014</td>\n",
       "      <td>60 - 2760 - 27Hurricanes vs Cheetahs</td>\n",
       "      <td>Hurricanes</td>\n",
       "      <td>Cheetahs</td>\n",
       "    </tr>\n",
       "    <tr>\n",
       "      <th>1</th>\n",
       "      <td>07 Mar 2014</td>\n",
       "      <td>21 - 2921 - 29Hurricanes vs Brumbies</td>\n",
       "      <td>Hurricanes</td>\n",
       "      <td>Brumbies</td>\n",
       "    </tr>\n",
       "    <tr>\n",
       "      <th>2</th>\n",
       "      <td>06 Jul 2013</td>\n",
       "      <td>44 - 4944 - 49Hurricanes vs Highlanders</td>\n",
       "      <td>Hurricanes</td>\n",
       "      <td>Highlanders</td>\n",
       "    </tr>\n",
       "    <tr>\n",
       "      <th>3</th>\n",
       "      <td>16 May 2013</td>\n",
       "      <td>12 - 1712 - 17Hurricanes vs Chiefs</td>\n",
       "      <td>Hurricanes</td>\n",
       "      <td>Chiefs</td>\n",
       "    </tr>\n",
       "    <tr>\n",
       "      <th>4</th>\n",
       "      <td>26 Apr 2013</td>\n",
       "      <td>16 - 1816 - 18Hurricanes vs Stormers</td>\n",
       "      <td>Hurricanes</td>\n",
       "      <td>Stormers</td>\n",
       "    </tr>\n",
       "  </tbody>\n",
       "</table>\n",
       "</div>"
      ],
      "text/plain": [
       "          Date                                    Score       TeamA  \\\n",
       "0  15 Mar 2014     60 - 2760 - 27Hurricanes vs Cheetahs  Hurricanes   \n",
       "1  07 Mar 2014     21 - 2921 - 29Hurricanes vs Brumbies  Hurricanes   \n",
       "2  06 Jul 2013  44 - 4944 - 49Hurricanes vs Highlanders  Hurricanes   \n",
       "3  16 May 2013       12 - 1712 - 17Hurricanes vs Chiefs  Hurricanes   \n",
       "4  26 Apr 2013     16 - 1816 - 18Hurricanes vs Stormers  Hurricanes   \n",
       "\n",
       "         TeamB  \n",
       "0     Cheetahs  \n",
       "1     Brumbies  \n",
       "2  Highlanders  \n",
       "3       Chiefs  \n",
       "4     Stormers  "
      ]
     },
     "execution_count": 104,
     "metadata": {},
     "output_type": "execute_result"
    }
   ],
   "source": [
    "game_data = pd.DataFrame(data)\n",
    "game_data.head()"
   ]
  },
  {
   "cell_type": "code",
   "execution_count": 105,
   "metadata": {
    "collapsed": false
   },
   "outputs": [],
   "source": [
    "game_data.to_csv('hurricanes')"
   ]
  },
  {
   "cell_type": "code",
   "execution_count": 106,
   "metadata": {
    "collapsed": false
   },
   "outputs": [
    {
     "name": "stdout",
     "output_type": "stream",
     "text": [
      "Games Played\n",
      "None\n"
     ]
    }
   ],
   "source": [
    "\"\"\"\n",
    "Now we look for a more overview of the team to calculate winning proportions and\n",
    "get other statistics that are valuable.\n",
    "\"\"\"\n",
    "\n",
    "header = soup.find_all('div', {'class' : 'rdfactheader'})\n",
    "detail = soup.find_all('div', {'class' : 'rdfactdetail'})\n",
    "print header[0].text\n",
    "print detail[0].ext"
   ]
  },
  {
   "cell_type": "code",
   "execution_count": 107,
   "metadata": {
    "collapsed": false
   },
   "outputs": [],
   "source": [
    "team_data = {\n",
    "    \"GamesPlayed\" : detail[0].get_text(),\n",
    "    \"GamesWon\" : detail[1].get_text(),\n",
    "    \"GamesLost\" : detail[2].get_text(),\n",
    "    \"LongestWinningStreak\" : detail[3].get_text(),\n",
    "    \"LongestLosingStreak\" : detail[4].get_text(),\n",
    "    \"TeamsBeaten\" : detail[5].get_text(),\n",
    "    \"TeamsBeatenBy\" : detail[6].get_text(),\n",
    "    \"TeamsDrawnWith\" : detail[7].get_text(),\n",
    "    \"GroundPlayedAt\" : detail[8].get_text(),\n",
    "    \"LargestPointsFor\" : detail[9].get_text(),\n",
    "    \"LargestPointsAgainst\" : detail[10].get_text(),\n",
    "    \"LargestWinningMargin\" : detail[11].get_text(),\n",
    "    \"LargestLosingMargin\" : detail[12].get_text(),\n",
    "    \"TotalPointsFor\" : detail[13].get_text(),\n",
    "    \"AvgPointsFor\" : detail[14].get_text(),\n",
    "    \"TotalPointsAgainst\" : detail[15].get_text(),\n",
    "    \"AvgePointsAgainst\" : detail[16].get_text(),\n",
    "    \"TotalPointsDifference\" : detail[17].get_text(),\n",
    "    \"AvgPointsDifference\" : detail[18].get_text()    \n",
    "}"
   ]
  },
  {
   "cell_type": "code",
   "execution_count": 108,
   "metadata": {
    "collapsed": false
   },
   "outputs": [
    {
     "name": "stdout",
     "output_type": "stream",
     "text": [
      "{'LongestWinningStreak': u'7', 'GroundPlayedAt': u'13', 'TotalPointsDifference': u'6377', 'TeamsDrawnWith': u'15', 'TotalPointsFor': u'49', 'LargestPointsAgainst': u'0', 'AvgPointsDifference': u'25.11', 'TeamsBeaten': u'8', 'LongestLosingStreak': u'7', 'GamesWon': u'131', 'TeamsBeatenBy': u'15', 'GamesLost': u'116', 'TotalPointsAgainst': u'6539', 'LargestWinningMargin': u'66', 'LargestLosingMargin': u'60', 'AvgePointsAgainst': u'25.74', 'GamesPlayed': u'254', 'AvgPointsFor': u'-53', 'LargestPointsFor': u'4'}\n"
     ]
    }
   ],
   "source": [
    "print team_data"
   ]
  },
  {
   "cell_type": "code",
   "execution_count": 109,
   "metadata": {
    "collapsed": false
   },
   "outputs": [],
   "source": [
    "panda_team_data = pd.DataFrame(team_data, index = [\"Hurricanes\"])"
   ]
  },
  {
   "cell_type": "code",
   "execution_count": 110,
   "metadata": {
    "collapsed": false
   },
   "outputs": [
    {
     "data": {
      "text/html": [
       "<div>\n",
       "<table border=\"1\" class=\"dataframe\">\n",
       "  <thead>\n",
       "    <tr style=\"text-align: right;\">\n",
       "      <th></th>\n",
       "      <th>AvgPointsDifference</th>\n",
       "      <th>AvgPointsFor</th>\n",
       "      <th>AvgePointsAgainst</th>\n",
       "      <th>GamesLost</th>\n",
       "      <th>GamesPlayed</th>\n",
       "      <th>GamesWon</th>\n",
       "      <th>GroundPlayedAt</th>\n",
       "      <th>LargestLosingMargin</th>\n",
       "      <th>LargestPointsAgainst</th>\n",
       "      <th>LargestPointsFor</th>\n",
       "      <th>LargestWinningMargin</th>\n",
       "      <th>LongestLosingStreak</th>\n",
       "      <th>LongestWinningStreak</th>\n",
       "      <th>TeamsBeaten</th>\n",
       "      <th>TeamsBeatenBy</th>\n",
       "      <th>TeamsDrawnWith</th>\n",
       "      <th>TotalPointsAgainst</th>\n",
       "      <th>TotalPointsDifference</th>\n",
       "      <th>TotalPointsFor</th>\n",
       "    </tr>\n",
       "  </thead>\n",
       "  <tbody>\n",
       "    <tr>\n",
       "      <th>Hurricanes</th>\n",
       "      <td>25.11</td>\n",
       "      <td>-53</td>\n",
       "      <td>25.74</td>\n",
       "      <td>116</td>\n",
       "      <td>254</td>\n",
       "      <td>131</td>\n",
       "      <td>13</td>\n",
       "      <td>60</td>\n",
       "      <td>0</td>\n",
       "      <td>4</td>\n",
       "      <td>66</td>\n",
       "      <td>7</td>\n",
       "      <td>7</td>\n",
       "      <td>8</td>\n",
       "      <td>15</td>\n",
       "      <td>15</td>\n",
       "      <td>6539</td>\n",
       "      <td>6377</td>\n",
       "      <td>49</td>\n",
       "    </tr>\n",
       "  </tbody>\n",
       "</table>\n",
       "</div>"
      ],
      "text/plain": [
       "           AvgPointsDifference AvgPointsFor AvgePointsAgainst GamesLost  \\\n",
       "Hurricanes               25.11          -53             25.74       116   \n",
       "\n",
       "           GamesPlayed GamesWon GroundPlayedAt LargestLosingMargin  \\\n",
       "Hurricanes         254      131             13                  60   \n",
       "\n",
       "           LargestPointsAgainst LargestPointsFor LargestWinningMargin  \\\n",
       "Hurricanes                    0                4                   66   \n",
       "\n",
       "           LongestLosingStreak LongestWinningStreak TeamsBeaten TeamsBeatenBy  \\\n",
       "Hurricanes                   7                    7           8            15   \n",
       "\n",
       "           TeamsDrawnWith TotalPointsAgainst TotalPointsDifference  \\\n",
       "Hurricanes             15               6539                  6377   \n",
       "\n",
       "           TotalPointsFor  \n",
       "Hurricanes             49  "
      ]
     },
     "execution_count": 110,
     "metadata": {},
     "output_type": "execute_result"
    }
   ],
   "source": [
    "panda_team_data"
   ]
  },
  {
   "cell_type": "code",
   "execution_count": null,
   "metadata": {
    "collapsed": true
   },
   "outputs": [],
   "source": []
  },
  {
   "cell_type": "code",
   "execution_count": 111,
   "metadata": {
    "collapsed": false,
    "scrolled": true
   },
   "outputs": [
    {
     "name": "stdout",
     "output_type": "stream",
     "text": [
      "Successful Url!\n",
      "None\n"
     ]
    }
   ],
   "source": [
    "# confirm successful\n",
    "def check_successful(response):\n",
    "    \"\"\"\n",
    "    Function to check if the response is successful or not.\n",
    "    \"\"\"\n",
    "    if response.status_code == 200:\n",
    "        print \"Successful Url!\"\n",
    "    else:\n",
    "        print \"Check Url\"\n",
    "        \n",
    "print check_successful(r)"
   ]
  },
  {
   "cell_type": "code",
   "execution_count": 112,
   "metadata": {
    "collapsed": false
   },
   "outputs": [],
   "source": [
    "def get_team_data(url, team_name):\n",
    "    r = requests.get(url)\n",
    "    page = r.text\n",
    "    soup = bs(page)\n",
    "    \n",
    "    header = soup.find_all('div', {'class' : 'rdfactheader'})\n",
    "    detail = soup.find_all('div', {'class' : 'rdfactdetail'})\n",
    "    \n",
    "    team_data = {\n",
    "        \"GamesPlayed\" : detail[0].get_text(),\n",
    "        \"GamesWon\" : detail[1].get_text(),\n",
    "        \"GamesLost\" : detail[2].get_text(),\n",
    "        \"GamesDrawn\" : detail[3].get_text(),\n",
    "        \"LongestWinningStreak\" : detail[4].get_text(),\n",
    "        \"LongestLosingStreak\" : detail[5].get_text(),\n",
    "        \"TeamsPlayed\" : detail[6].get_text(),\n",
    "        \"TeamsBeaten\" : detail[7].get_text(),\n",
    "        \"TeamsBeatenBy\" : detail[8].get_text(),\n",
    "        \"TeamsDrawnWith\" : detail[9].get_text(),\n",
    "        \"GroundPlayedAt\" : detail[10].get_text(),\n",
    "        \"LargestPointsFor\" : detail[11].get_text(),\n",
    "        \"LargestPointsAgainst\" : detail[12].get_text(),\n",
    "        \"LargestWinningMargin\" : detail[13].get_text(),\n",
    "        \"LargestLosingMargin\" : detail[14].get_text(),\n",
    "        \"TotalPointsFor\" : detail[15].get_text(),\n",
    "        \"AvgPointsFor\" : detail[16].get_text(),\n",
    "        \"TotalPointsAgainst\" : detail[17].get_text(),\n",
    "        \"AvgePointsAgainst\" : detail[18].get_text(),\n",
    "        \"TotalPointsDifference\" : detail[19].get_text(),\n",
    "        \"AvgPointsDifference\" : detail[20].get_text()    \n",
    "    }\n",
    "    panda_team_data = pd.DataFrame(team_data, index = [team_name])\n",
    "    panda_team_data.to_csv(team_name + \".csv\")\n",
    "    "
   ]
  },
  {
   "cell_type": "code",
   "execution_count": 113,
   "metadata": {
    "collapsed": false
   },
   "outputs": [],
   "source": [
    "team_url = {\n",
    "    \"Hurricanes\" : \"http://www.rugbydata.com/superrugby/hurricanes/gamesplayed/\",\n",
    "    \"Blues\" : \"http://www.rugbydata.com/superrugby/blues/gamesplayed/\",\n",
    "    \"Brumbies\" : \"http://www.rugbydata.com/superrugby/brumbies/gamesplayed/\",\n",
    "    \"Bulls\" : \"http://www.rugbydata.com/superrugby/bulls/gamesplayed/\",\n",
    "    \"Cheetahs\" : \"http://www.rugbydata.com/superrugby/cheetahs/gamesplayed/\",\n",
    "    \"Chiefs\" : \"http://www.rugbydata.com/superrugby/chiefs/gamesplayed/\",\n",
    "    \"Crusaders\" : \"http://www.rugbydata.com/superrugby/crusaders/gamesplayed/\",\n",
    "    \"Highlanders\" : \"http://www.rugbydata.com/superrugby/highlanders/gamesplayed/\",\n",
    "    \"Lions\" : \"http://www.rugbydata.com/superrugby/lions/gamesplayed/\",\n",
    "    \"Rebels\" : \"http://www.rugbydata.com/superrugby/melbournerebels/gamesplayed/\",\n",
    "    \"Reds\" : \"http://www.rugbydata.com/superrugby/reds/gamesplayed/\",\n",
    "    \"Sharks\" : \"http://www.rugbydata.com/superrugby/sharks/gamesplayed/\",\n",
    "    \"Kings\" : \"http://www.rugbydata.com/superrugby/southernkings/gamesplayed/\",\n",
    "    \"Stormers\" : \"http://www.rugbydata.com/superrugby/stormers/gamesplayed/\",\n",
    "    \"Stormers\" : \"http://www.rugbydata.com/superrugby/stormers/gamesplayed/\",\n",
    "    \"Waratahs\" : \"http://www.rugbydata.com/superrugby/waratahs/gamesplayed/\",\n",
    "    \"Force\" : \"http://www.rugbydata.com/superrugby/westernforce/gamesplayed/\"\n",
    "}"
   ]
  },
  {
   "cell_type": "code",
   "execution_count": 114,
   "metadata": {
    "collapsed": false
   },
   "outputs": [],
   "source": [
    "for key, value in team_url.iteritems():\n",
    "    get_team_data(value, key)"
   ]
  },
  {
   "cell_type": "code",
   "execution_count": null,
   "metadata": {
    "collapsed": false
   },
   "outputs": [],
   "source": []
  },
  {
   "cell_type": "code",
   "execution_count": null,
   "metadata": {
    "collapsed": true
   },
   "outputs": [],
   "source": []
  },
  {
   "cell_type": "code",
   "execution_count": null,
   "metadata": {
    "collapsed": true
   },
   "outputs": [],
   "source": []
  }
 ],
 "metadata": {
  "kernelspec": {
   "display_name": "Python 2",
   "language": "python",
   "name": "python2"
  },
  "language_info": {
   "codemirror_mode": {
    "name": "ipython",
    "version": 2
   },
   "file_extension": ".py",
   "mimetype": "text/x-python",
   "name": "python",
   "nbconvert_exporter": "python",
   "pygments_lexer": "ipython2",
   "version": "2.7.11"
  }
 },
 "nbformat": 4,
 "nbformat_minor": 0
}
